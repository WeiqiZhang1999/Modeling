{
 "cells": [
  {
   "cell_type": "code",
   "execution_count": 2,
   "metadata": {},
   "outputs": [],
   "source": [
    "import pandas as pd\n",
    "import torch\n",
    "from model import get_model\n",
    "\n",
    "data_path = './dataset/trainX.xlsx'\n",
    "label_path = './dataset/trainY.xlsx'\n",
    "test_path = './dataset/testX.xlsx'\n",
    "\n",
    "train_data = pd.read_excel(data_path, index_col='jieju_cust_num')\n",
    "label = pd.read_excel(label_path)\n",
    "test_data = pd.read_excel(test_path, index_col='jieju_cust_num')\n",
    "\n",
    "all_features = pd.concat((train_data.iloc[:, 1:-1], test_data.iloc[:, 1:]))\n",
    "\n",
    "name = all_features.columns\n",
    "drop_columns = [name[x] for x in range(all_features.shape[1]) if all_features.iloc[:, x].dtype == 'O']\n",
    "all_features = all_features.drop(columns=drop_columns, axis=0)\n",
    "all_features = all_features.loc[:, (all_features != all_features.iloc[0]).any()]\n",
    "\n",
    "# Normalization\n",
    "numeric_features = all_features.dtypes[all_features.dtypes != 'object'].index\n",
    "all_features[numeric_features] = all_features[numeric_features].apply(\n",
    "    lambda x: (x - x.mean()) / (x.std()))\n",
    "all_features[numeric_features] = all_features[numeric_features]\n",
    "all_features = all_features.fillna(0)\n",
    "\n",
    "n_train = train_data.shape[0]\n",
    "test_features = torch.tensor(all_features[n_train:].values, dtype=torch.float32)"
   ]
  },
  {
   "cell_type": "code",
   "execution_count": 3,
   "metadata": {},
   "outputs": [
    {
     "data": {
      "text/plain": [
       "tensor([[ 0.5063, -0.3234,  1.3959,  ...,  0.2829,  0.0681, -0.4341],\n",
       "        [-0.3347, -0.3717, -0.0191,  ..., -0.5989, -0.6804, -0.4341],\n",
       "        [-0.0969,  0.1449, -0.3953,  ..., -0.5989, -0.6804, -0.4341],\n",
       "        ...,\n",
       "        [ 0.1515, -0.3438,  0.7988,  ...,  0.0285,  0.2305, -0.4341],\n",
       "        [-0.3453, -0.3723, -0.0370,  ..., -0.2313, -0.2402, -0.4341],\n",
       "        [-0.5228, -0.3438, -0.3953,  ...,  3.5991,  2.5814, -0.4341]])"
      ]
     },
     "execution_count": 3,
     "metadata": {},
     "output_type": "execute_result"
    }
   ],
   "source": [
    "test_features"
   ]
  },
  {
   "cell_type": "code",
   "execution_count": 4,
   "metadata": {},
   "outputs": [
    {
     "name": "stdout",
     "output_type": "stream",
     "text": [
      "loaded model\n"
     ]
    }
   ],
   "source": [
    "model = get_model()\n",
    "model.load_state_dict(torch.load('checkpoints/linear_model.pth'))\n",
    "print(f\"loaded model\")\n",
    "\n",
    "model.eval()\n",
    "\n",
    "y_test = pd.DataFrame(list(test_data.index), columns=['ID'])\n",
    "\n",
    "with torch.no_grad():\n",
    "    test_result = model(test_features)"
   ]
  },
  {
   "cell_type": "code",
   "execution_count": null,
   "metadata": {},
   "outputs": [],
   "source": []
  }
 ],
 "metadata": {
  "kernelspec": {
   "display_name": "Python 3 (ipykernel)",
   "language": "python",
   "name": "python3"
  },
  "language_info": {
   "codemirror_mode": {
    "name": "ipython",
    "version": 3
   },
   "file_extension": ".py",
   "mimetype": "text/x-python",
   "name": "python",
   "nbconvert_exporter": "python",
   "pygments_lexer": "ipython3",
   "version": "3.9.13"
  }
 },
 "nbformat": 4,
 "nbformat_minor": 1
}
